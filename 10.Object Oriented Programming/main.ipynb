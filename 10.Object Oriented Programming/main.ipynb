{
 "cells": [
  {
   "cell_type": "code",
   "execution_count": 3,
   "metadata": {},
   "outputs": [
    {
     "name": "stdout",
     "output_type": "stream",
     "text": [
      "Lion yellow\n",
      "dove white\n"
     ]
    }
   ],
   "source": [
    "name=\"Lion\"\n",
    "color='yellow'\n",
    "_name='dove'\n",
    "_color='white'\n",
    "print(name,color)\n",
    "print(_name,_color)"
   ]
  },
  {
   "cell_type": "code",
   "execution_count": 7,
   "metadata": {},
   "outputs": [
    {
     "name": "stdout",
     "output_type": "stream",
     "text": [
      "Lion\n",
      "Tiger\n"
     ]
    }
   ],
   "source": [
    "class Object:\n",
    "    def __init__(self,name):\n",
    "       self.name=name\n",
    "\n",
    "class Animal(Object):\n",
    "    pass\n",
    "animal1=Animal('Lion')\n",
    "animal2=Animal('Tiger')\n",
    "print(animal1.name)\n",
    "print(animal2.name)\n"
   ]
  },
  {
   "cell_type": "markdown",
   "metadata": {},
   "source": [
    "# **Class & Object**"
   ]
  },
  {
   "cell_type": "code",
   "execution_count": 21,
   "metadata": {},
   "outputs": [
    {
     "name": "stdout",
     "output_type": "stream",
     "text": [
      "None\n"
     ]
    }
   ],
   "source": [
    "human1={\"name\":'kavin','Age':25,'phn':782892}\n",
    "human2={\"name\":'linin','Age':23,'phn':982892}\n",
    "print(human1.get(\"age\"))"
   ]
  },
  {
   "cell_type": "code",
   "execution_count": 15,
   "metadata": {},
   "outputs": [
    {
     "name": "stdout",
     "output_type": "stream",
     "text": [
      "Ram\n",
      "50\n",
      "Ram Is sleeping\n"
     ]
    }
   ],
   "source": [
    "class Human:\n",
    "    Name=None\n",
    "    Age=None\n",
    "    Weight=None\n",
    "    height=None\n",
    "\n",
    "    def sleep(self):\n",
    "        print(self.Name,\"Is sleeping\")\n",
    "\n",
    "\n",
    "person=Human()\n",
    "person.Name=\"Ram\"\n",
    "person.Age=1\n",
    "person.height=50\n",
    "print(person.Name)\n",
    "print(person.height)\n",
    "person.sleep()"
   ]
  },
  {
   "cell_type": "code",
   "execution_count": 24,
   "metadata": {},
   "outputs": [
    {
     "name": "stdout",
     "output_type": "stream",
     "text": [
      "Ram\n",
      "50\n"
     ]
    }
   ],
   "source": [
    "class Human:\n",
    "    pass\n",
    "\n",
    "person=Human()\n",
    "person.Name=\"Ram\"\n",
    "person.Age=1\n",
    "person.height=50\n",
    "print(person.Name)\n",
    "print(person.height)\n"
   ]
  },
  {
   "cell_type": "code",
   "execution_count": 27,
   "metadata": {},
   "outputs": [
    {
     "name": "stdout",
     "output_type": "stream",
     "text": [
      "I'm Ram and mark total is 441\n"
     ]
    }
   ],
   "source": [
    "class Student:\n",
    "    Name=None\n",
    "    T=None\n",
    "    E=None\n",
    "    M=None\n",
    "    S=None\n",
    "    sp=None\n",
    "\n",
    "s1=Student()\n",
    "s1.Name=\"Ram\"\n",
    "s1.T=76\n",
    "s1.E=89\n",
    "s1.M=90\n",
    "s1.S=87\n",
    "s1.sp=99\n",
    "print(f\"I'm {s1.Name} and mark total is {s1.T+s1.E+s1.M+s1.S+s1.sp}\")"
   ]
  },
  {
   "cell_type": "code",
   "execution_count": null,
   "metadata": {},
   "outputs": [],
   "source": []
  }
 ],
 "metadata": {
  "kernelspec": {
   "display_name": ".venv",
   "language": "python",
   "name": "python3"
  },
  "language_info": {
   "codemirror_mode": {
    "name": "ipython",
    "version": 3
   },
   "file_extension": ".py",
   "mimetype": "text/x-python",
   "name": "python",
   "nbconvert_exporter": "python",
   "pygments_lexer": "ipython3",
   "version": "3.11.3"
  }
 },
 "nbformat": 4,
 "nbformat_minor": 2
}
