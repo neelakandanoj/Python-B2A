{
 "cells": [
  {
   "cell_type": "code",
   "execution_count": 3,
   "metadata": {},
   "outputs": [
    {
     "name": "stdout",
     "output_type": "stream",
     "text": [
      "Lion yellow\n",
      "dove white\n"
     ]
    }
   ],
   "source": [
    "name=\"Lion\"\n",
    "color='yellow'\n",
    "_name='dove'\n",
    "_color='white'\n",
    "print(name,color)\n",
    "print(_name,_color)\n"
   ]
  },
  {
   "cell_type": "code",
   "execution_count": 7,
   "metadata": {},
   "outputs": [
    {
     "name": "stdout",
     "output_type": "stream",
     "text": [
      "Lion\n",
      "Tiger\n"
     ]
    }
   ],
   "source": [
    "class Object:\n",
    "    def __init__(self,name):\n",
    "       self.name=name\n",
    "\n",
    "class Animal(Object):\n",
    "    pass\n",
    "animal1=Animal('Lion')\n",
    "animal2=Animal('Tiger')\n",
    "print(animal1.name)\n",
    "print(animal2.name)\n"
   ]
  },
  {
   "cell_type": "markdown",
   "metadata": {},
   "source": [
    "# **Class & Object**"
   ]
  },
  {
   "cell_type": "code",
   "execution_count": 21,
   "metadata": {},
   "outputs": [
    {
     "name": "stdout",
     "output_type": "stream",
     "text": [
      "None\n"
     ]
    }
   ],
   "source": [
    "human1={\"name\":'kavin','Age':25,'phn':782892}\n",
    "human2={\"name\":'linin','Age':23,'phn':982892}\n",
    "print(human1.get(\"age\"))"
   ]
  },
  {
   "cell_type": "code",
   "execution_count": 15,
   "metadata": {},
   "outputs": [
    {
     "name": "stdout",
     "output_type": "stream",
     "text": [
      "Ram\n",
      "50\n",
      "Ram Is sleeping\n"
     ]
    }
   ],
   "source": [
    "class Human:\n",
    "    Name=None\n",
    "    Age=None\n",
    "    Weight=None\n",
    "    height=None\n",
    "\n",
    "    def sleep(self):\n",
    "        print(self.Name,\"Is sleeping\")\n",
    "\n",
    "\n",
    "person=Human()\n",
    "person.Name=\"Ram\"\n",
    "person.Age=1\n",
    "person.height=50\n",
    "print(person.Name)\n",
    "print(person.height)\n",
    "person.sleep()"
   ]
  },
  {
   "cell_type": "code",
   "execution_count": 24,
   "metadata": {},
   "outputs": [
    {
     "name": "stdout",
     "output_type": "stream",
     "text": [
      "Ram\n",
      "50\n"
     ]
    }
   ],
   "source": [
    "class Human:\n",
    "    pass\n",
    "\n",
    "person=Human()\n",
    "person.Name=\"Ram\"\n",
    "person.Age=1\n",
    "person.height=50\n",
    "print(person.Name)\n",
    "print(person.height)\n"
   ]
  },
  {
   "cell_type": "code",
   "execution_count": 27,
   "metadata": {},
   "outputs": [
    {
     "name": "stdout",
     "output_type": "stream",
     "text": [
      "I'm Ram and mark total is 441\n"
     ]
    }
   ],
   "source": [
    "class Student:\n",
    "    Name=None\n",
    "    T=None\n",
    "    E=None\n",
    "    M=None\n",
    "    S=None\n",
    "    sp=None\n",
    "\n",
    "s1=Student()\n",
    "s1.Name=\"Ram\"\n",
    "s1.T=76\n",
    "s1.E=89\n",
    "s1.M=90\n",
    "s1.S=87\n",
    "s1.sp=99\n",
    "print(f\"I'm {s1.Name} and mark total is {s1.T+s1.E+s1.M+s1.S+s1.sp}\")"
   ]
  },
  {
   "cell_type": "markdown",
   "metadata": {},
   "source": [
    "# **Constructor**"
   ]
  },
  {
   "cell_type": "code",
   "execution_count": 38,
   "metadata": {},
   "outputs": [
    {
     "name": "stdout",
     "output_type": "stream",
     "text": [
      "Neel\n",
      "aswin\n"
     ]
    }
   ],
   "source": [
    "class Person:\n",
    "    def __init__(self,name):\n",
    "       self.Name=name     \n",
    "\n",
    "person1=Person('Neel')\n",
    "person2=Person('aswin')\n",
    "print(person1.Name)\n",
    "print(person2.Name)"
   ]
  },
  {
   "cell_type": "code",
   "execution_count": 50,
   "metadata": {},
   "outputs": [
    {
     "name": "stdout",
     "output_type": "stream",
     "text": [
      "I'm Neel My age is 23\n",
      "I'm aswin My age is 23\n"
     ]
    }
   ],
   "source": [
    "class Person:\n",
    "    def __init__(self,name,age=None):\n",
    "       self.Name=name     \n",
    "       self.age=age\n",
    "\n",
    "person1=Person('Neel',23)\n",
    "person2=Person(age=23,name='aswin')\n",
    "print(f\"I'm {person1.Name} My age is {person1.age}\")\n",
    "print(f\"I'm {person2.Name} My age is {person2.age}\")"
   ]
  },
  {
   "cell_type": "code",
   "execution_count": 52,
   "metadata": {},
   "outputs": [
    {
     "name": "stdout",
     "output_type": "stream",
     "text": [
      "Hi Neelakandan, your total ,mark is 475\n"
     ]
    }
   ],
   "source": [
    "class Student:\n",
    "    def __init__(self,name,tamil,english,maths,science,social):\n",
    "        self.name=name\n",
    "        self.tamil=tamil\n",
    "        self.english=english\n",
    "        self.maths=maths\n",
    "        self.science=science\n",
    "        self.social=social\n",
    "\n",
    "student1=Student('Neelakandan',91,94,95,99,96)\n",
    "print(f\"Hi {student1.name}, your total ,mark is {student1.tamil+student1.english+student1.maths+student1.science+student1.social}\")\n"
   ]
  },
  {
   "cell_type": "markdown",
   "metadata": {},
   "source": [
    "# **Static vs instance**"
   ]
  },
  {
   "cell_type": "code",
   "execution_count": 64,
   "metadata": {},
   "outputs": [
    {
     "name": "stdout",
     "output_type": "stream",
     "text": [
      " I'm sleeping for 8 Hours\n",
      "nee is eating.\n"
     ]
    }
   ],
   "source": [
    "class Person:\n",
    "    #static variable\n",
    "    sleepingtime=8\n",
    "    def __init__(self,name,age):\n",
    "        self.name=name\n",
    "        self.age=age\n",
    "\n",
    "    #static method\n",
    "    @staticmethod\n",
    "    def sleep():\n",
    "        print(\"I'm sleeping for\",Person.sleepingtime,\"Hours\")\n",
    "\n",
    "    def eat(self):\n",
    "        print(f\"{self.name} is eating.\")\n",
    "\n",
    "Person.sleep()\n",
    "person1=Person('nee',1)\n",
    "person1.eat()"
   ]
  },
  {
   "cell_type": "markdown",
   "metadata": {},
   "source": [
    "# **Inheritance**"
   ]
  },
  {
   "cell_type": "markdown",
   "metadata": {},
   "source": [
    "Child can access the parent attributes/methods\n",
    "parent can not inherit the child component"
   ]
  },
  {
   "cell_type": "code",
   "execution_count": 87,
   "metadata": {},
   "outputs": [
    {
     "name": "stdout",
     "output_type": "stream",
     "text": [
      "Parent is singing\n",
      "Child is Dancing\n",
      "100000\n"
     ]
    }
   ],
   "source": [
    "class Parent:\n",
    "    def __init__(self):\n",
    "        self.Networth=100000\n",
    "\n",
    "    def Sing(self):\n",
    "        print(\"Parent is singing\")\n",
    "\n",
    "class Child(Parent):\n",
    "    def Dance(self): \n",
    "        print(\"Child is Dancing\")\n",
    "\n",
    "child=Child()\n",
    "child.Sing()\n",
    "child.Dance()\n",
    "print(child.Networth)"
   ]
  },
  {
   "cell_type": "code",
   "execution_count": 88,
   "metadata": {},
   "outputs": [
    {
     "name": "stdout",
     "output_type": "stream",
     "text": [
      "Parent is singing\n"
     ]
    }
   ],
   "source": [
    "parent=Parent()\n",
    "parent.Sing()"
   ]
  },
  {
   "cell_type": "code",
   "execution_count": 89,
   "metadata": {},
   "outputs": [
    {
     "ename": "AttributeError",
     "evalue": "'Parent' object has no attribute 'Dance'",
     "output_type": "error",
     "traceback": [
      "\u001b[1;31m---------------------------------------------------------------------------\u001b[0m",
      "\u001b[1;31mAttributeError\u001b[0m                            Traceback (most recent call last)",
      "Cell \u001b[1;32mIn[89], line 1\u001b[0m\n\u001b[1;32m----> 1\u001b[0m \u001b[43mparent\u001b[49m\u001b[38;5;241;43m.\u001b[39;49m\u001b[43mDance\u001b[49m()\n",
      "\u001b[1;31mAttributeError\u001b[0m: 'Parent' object has no attribute 'Dance'"
     ]
    }
   ],
   "source": [
    "parent.Dance()"
   ]
  },
  {
   "cell_type": "code",
   "execution_count": 1,
   "metadata": {},
   "outputs": [
    {
     "name": "stdout",
     "output_type": "stream",
     "text": [
      "Parent is Driving at speed 20\n",
      "child is Driving\n"
     ]
    }
   ],
   "source": [
    "class Parent:\n",
    "    def drive(self,speed):\n",
    "        print(\"Parent is Driving at speed\", speed)\n",
    "class Child(Parent):\n",
    "    def drive(self,speed):\n",
    "        super().drive(speed)\n",
    "        print(\"child is Driving\")\n",
    "child1=Child()\n",
    "child1.drive(20)"
   ]
  },
  {
   "cell_type": "code",
   "execution_count": 7,
   "metadata": {},
   "outputs": [
    {
     "name": "stdout",
     "output_type": "stream",
     "text": [
      "Child constructor is invoked\n",
      "1000000\n",
      "child is networth is 500000\n",
      "None\n"
     ]
    }
   ],
   "source": [
    "class Parent:\n",
    "    def __init__(self,networth):\n",
    "        self.networth=networth\n",
    "\n",
    "class Child(Parent):\n",
    "    def __init__(self,networth):\n",
    "        super().__init__(networth)\n",
    "        print(\"Child constructor is invoked\")\n",
    "\n",
    "    def childnetworth(self):\n",
    "        print(\"child is networth is\",self.networth//2)\n",
    "    \n",
    "child1=Child(1000000)\n",
    "print(child1.networth)\n",
    "print(child1.childnetworth())"
   ]
  },
  {
   "cell_type": "code",
   "execution_count": 8,
   "metadata": {},
   "outputs": [
    {
     "name": "stdout",
     "output_type": "stream",
     "text": [
      "Parent Singing\n"
     ]
    }
   ],
   "source": [
    "class Parent:\n",
    "    def sing(self):\n",
    "        print(\"Parent Singing\")\n",
    "\n",
    "class Relative:\n",
    "    def Drive(self):\n",
    "        print(\"Relative drivivng\")\n",
    "    def sing(self):\n",
    "        print(\"Reltive singing\")\n",
    "class Child(Parent,Relative):\n",
    "    def common(self):\n",
    "        pass\n",
    "\n",
    "c1=Child()\n",
    "c1.sing()"
   ]
  },
  {
   "cell_type": "code",
   "execution_count": 30,
   "metadata": {},
   "outputs": [
    {
     "name": "stdout",
     "output_type": "stream",
     "text": [
      "Relative singing\n"
     ]
    }
   ],
   "source": [
    "class Parent:\n",
    "    def sing(self):\n",
    "        print(\"Parent Singing\")\n",
    "\n",
    "class Relative:\n",
    "    def Drive(self):\n",
    "        print(\"Relative drivivng\")\n",
    "    def sing(self):\n",
    "        print(\"Relative singing\")\n",
    "class Child(Parent,Relative):\n",
    "    def common(self):\n",
    "        super(Parent,self).sing()\n",
    "\n",
    "c1=Child()\n",
    "Relative.sing(c1)\n",
    "\n"
   ]
  },
  {
   "cell_type": "markdown",
   "metadata": {},
   "source": [
    "# **Encapsulation**"
   ]
  },
  {
   "cell_type": "code",
   "execution_count": 43,
   "metadata": {},
   "outputs": [
    {
     "name": "stdout",
     "output_type": "stream",
     "text": [
      "RamaKrishna Higher sec school\n",
      "chennai\n",
      "5000000\n"
     ]
    }
   ],
   "source": [
    "class School:\n",
    "    def __init__(self):\n",
    "        self.Name=\"RamaKrishna Higher sec school\"\n",
    "        self.Place='chennai'\n",
    "        self.__Revenue=5000000 # __private\\\n",
    "\n",
    "    #public\n",
    "    # def SchoolRevenue(self):\n",
    "    #     print(self.__Revenue)\n",
    "        \n",
    "\n",
    "school1=School()\n",
    "print(school1.Name)\n",
    "print(school1.Place)\n",
    "print(school1._School__Revenue)"
   ]
  },
  {
   "cell_type": "code",
   "execution_count": 48,
   "metadata": {},
   "outputs": [
    {
     "name": "stdout",
     "output_type": "stream",
     "text": [
      "RamaKrishna Higher sec school\n",
      "chennai\n",
      "5000000\n",
      "None\n",
      "None\n"
     ]
    }
   ],
   "source": [
    "class School:\n",
    "    def __init__(self):\n",
    "        self.Name=\"RamaKrishna Higher sec school\"\n",
    "        self.Place='chennai'\n",
    "        self._Revenue=5000000 # _protected\n",
    "    #private method\n",
    "    def __SchoolRevenue(self):\n",
    "        print(self._Revenue)\n",
    "    \n",
    "    def PublicReven(self):\n",
    "        print(self.__SchoolRevenue())\n",
    "\n",
    "school1=School()\n",
    "print(school1.Name)\n",
    "print(school1.Place)\n",
    "print(school1.PublicReven())"
   ]
  },
  {
   "cell_type": "markdown",
   "metadata": {},
   "source": [
    "# **Getter & Setter**"
   ]
  },
  {
   "cell_type": "code",
   "execution_count": 14,
   "metadata": {},
   "outputs": [
    {
     "name": "stdout",
     "output_type": "stream",
     "text": [
      "venkat\n"
     ]
    }
   ],
   "source": [
    "class Person:\n",
    "\n",
    "    def __init__(self) :\n",
    "        self.__name=None\n",
    "\n",
    "    def set_name(self,Value):\n",
    "        if len(Value)>20:\n",
    "            print(\"Can't setr the name character more than 20\")\n",
    "        else:\n",
    "            self.__name=Value\n",
    "\n",
    "    def get_name(self):\n",
    "        return self.__name\n",
    "per1=Person()\n",
    "per1.set_name('venkat')\n",
    "print(per1.get_name())\n"
   ]
  },
  {
   "cell_type": "markdown",
   "metadata": {},
   "source": [
    "# **Polymorphism**"
   ]
  },
  {
   "cell_type": "code",
   "execution_count": 27,
   "metadata": {},
   "outputs": [
    {
     "name": "stdout",
     "output_type": "stream",
     "text": [
      "General Sleeping hours is  8\n"
     ]
    }
   ],
   "source": [
    "class Persom:\n",
    "    def __init__(self,name,age):\n",
    "        self.name=name\n",
    "        self.age=age\n",
    "    def Sleep(self,sleepinghours=None,start=None,end=None):\n",
    "        if start is not None and end is not None:\n",
    "            print(\"Sleeping hours is calculate by start and end\", abs(end-start))\n",
    "\n",
    "        else:\n",
    "            print(\"General Sleeping hours is \", sleepinghours)\n",
    "\n",
    "   \n",
    "\n",
    "person=Persom(name='gokul',age=23)\n",
    "person.Sleep(8)"
   ]
  },
  {
   "cell_type": "code",
   "execution_count": 28,
   "metadata": {},
   "outputs": [
    {
     "name": "stdout",
     "output_type": "stream",
     "text": [
      "Sleeping hours is calculate by start and end 13\n"
     ]
    }
   ],
   "source": [
    "person.Sleep(start=20,end=7)"
   ]
  },
  {
   "cell_type": "code",
   "execution_count": 29,
   "metadata": {},
   "outputs": [
    {
     "name": "stdout",
     "output_type": "stream",
     "text": [
      "General Sleeping hours is  None\n"
     ]
    }
   ],
   "source": [
    "person.Sleep()"
   ]
  },
  {
   "cell_type": "code",
   "execution_count": 30,
   "metadata": {},
   "outputs": [
    {
     "name": "stdout",
     "output_type": "stream",
     "text": [
      "Child  driving\n"
     ]
    }
   ],
   "source": [
    "class Parent:\n",
    "\n",
    "    def Drive(self):\n",
    "        print(\"Parent is driving\")\n",
    "\n",
    "class Child(Parent):\n",
    "    def Drive(self):\n",
    "        print(\"Child  driving\")\n",
    "\n",
    "obj=None\n",
    "name=input(\"enter the input to call child or parent: \")\n",
    "if name==\"Parent\":\n",
    "    obj=Parent()\n",
    "else:\n",
    "    obj=Child()\n",
    "\n",
    "obj.Drive()"
   ]
  },
  {
   "cell_type": "markdown",
   "metadata": {},
   "source": [
    "# **Abstraction**"
   ]
  },
  {
   "cell_type": "code",
   "execution_count": null,
   "metadata": {},
   "outputs": [],
   "source": [
    "from abc import ABC,abstractmethod\n",
    "class Vehicle(ABC):\n",
    "     \n",
    "    @abstractmethod\n",
    "    def StartEngine(self):\n",
    "        pass\n",
    "\n",
    "class Car(Vehicle):\n",
    "    \n",
    "\n"
   ]
  }
 ],
 "metadata": {
  "kernelspec": {
   "display_name": ".venv",
   "language": "python",
   "name": "python3"
  },
  "language_info": {
   "codemirror_mode": {
    "name": "ipython",
    "version": 3
   },
   "file_extension": ".py",
   "mimetype": "text/x-python",
   "name": "python",
   "nbconvert_exporter": "python",
   "pygments_lexer": "ipython3",
   "version": "3.11.3"
  }
 },
 "nbformat": 4,
 "nbformat_minor": 2
}
