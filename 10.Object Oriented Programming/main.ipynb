{
 "cells": [
  {
   "cell_type": "code",
   "execution_count": 3,
   "metadata": {},
   "outputs": [
    {
     "name": "stdout",
     "output_type": "stream",
     "text": [
      "Lion yellow\n",
      "dove white\n"
     ]
    }
   ],
   "source": [
    "name=\"Lion\"\n",
    "color='yellow'\n",
    "_name='dove'\n",
    "_color='white'\n",
    "print(name,color)\n",
    "print(_name,_color)"
   ]
  },
  {
   "cell_type": "code",
   "execution_count": 7,
   "metadata": {},
   "outputs": [
    {
     "name": "stdout",
     "output_type": "stream",
     "text": [
      "Lion\n",
      "Tiger\n"
     ]
    }
   ],
   "source": [
    "class Object:\n",
    "    def __init__(self,name):\n",
    "       self.name=name\n",
    "\n",
    "class Animal(Object):\n",
    "    pass\n",
    "animal1=Animal('Lion')\n",
    "animal2=Animal('Tiger')\n",
    "print(animal1.name)\n",
    "print(animal2.name)\n"
   ]
  },
  {
   "cell_type": "markdown",
   "metadata": {},
   "source": [
    "# **Class & Object**"
   ]
  },
  {
   "cell_type": "code",
   "execution_count": 21,
   "metadata": {},
   "outputs": [
    {
     "name": "stdout",
     "output_type": "stream",
     "text": [
      "None\n"
     ]
    }
   ],
   "source": [
    "human1={\"name\":'kavin','Age':25,'phn':782892}\n",
    "human2={\"name\":'linin','Age':23,'phn':982892}\n",
    "print(human1.get(\"age\"))"
   ]
  },
  {
   "cell_type": "code",
   "execution_count": 15,
   "metadata": {},
   "outputs": [
    {
     "name": "stdout",
     "output_type": "stream",
     "text": [
      "Ram\n",
      "50\n",
      "Ram Is sleeping\n"
     ]
    }
   ],
   "source": [
    "class Human:\n",
    "    Name=None\n",
    "    Age=None\n",
    "    Weight=None\n",
    "    height=None\n",
    "\n",
    "    def sleep(self):\n",
    "        print(self.Name,\"Is sleeping\")\n",
    "\n",
    "\n",
    "person=Human()\n",
    "person.Name=\"Ram\"\n",
    "person.Age=1\n",
    "person.height=50\n",
    "print(person.Name)\n",
    "print(person.height)\n",
    "person.sleep()"
   ]
  },
  {
   "cell_type": "code",
   "execution_count": 24,
   "metadata": {},
   "outputs": [
    {
     "name": "stdout",
     "output_type": "stream",
     "text": [
      "Ram\n",
      "50\n"
     ]
    }
   ],
   "source": [
    "class Human:\n",
    "    pass\n",
    "\n",
    "person=Human()\n",
    "person.Name=\"Ram\"\n",
    "person.Age=1\n",
    "person.height=50\n",
    "print(person.Name)\n",
    "print(person.height)\n"
   ]
  },
  {
   "cell_type": "code",
   "execution_count": 27,
   "metadata": {},
   "outputs": [
    {
     "name": "stdout",
     "output_type": "stream",
     "text": [
      "I'm Ram and mark total is 441\n"
     ]
    }
   ],
   "source": [
    "class Student:\n",
    "    Name=None\n",
    "    T=None\n",
    "    E=None\n",
    "    M=None\n",
    "    S=None\n",
    "    sp=None\n",
    "\n",
    "s1=Student()\n",
    "s1.Name=\"Ram\"\n",
    "s1.T=76\n",
    "s1.E=89\n",
    "s1.M=90\n",
    "s1.S=87\n",
    "s1.sp=99\n",
    "print(f\"I'm {s1.Name} and mark total is {s1.T+s1.E+s1.M+s1.S+s1.sp}\")"
   ]
  },
  {
   "cell_type": "markdown",
   "metadata": {},
   "source": [
    "# **Constructor**"
   ]
  },
  {
   "cell_type": "code",
   "execution_count": 38,
   "metadata": {},
   "outputs": [
    {
     "name": "stdout",
     "output_type": "stream",
     "text": [
      "Neel\n",
      "aswin\n"
     ]
    }
   ],
   "source": [
    "class Person:\n",
    "    def __init__(self,name):\n",
    "       self.Name=name     \n",
    "\n",
    "person1=Person('Neel')\n",
    "person2=Person('aswin')\n",
    "print(person1.Name)\n",
    "print(person2.Name)"
   ]
  },
  {
   "cell_type": "code",
   "execution_count": 50,
   "metadata": {},
   "outputs": [
    {
     "name": "stdout",
     "output_type": "stream",
     "text": [
      "I'm Neel My age is 23\n",
      "I'm aswin My age is 23\n"
     ]
    }
   ],
   "source": [
    "class Person:\n",
    "    def __init__(self,name,age=None):\n",
    "       self.Name=name     \n",
    "       self.age=age\n",
    "\n",
    "person1=Person('Neel',23)\n",
    "person2=Person(age=23,name='aswin')\n",
    "print(f\"I'm {person1.Name} My age is {person1.age}\")\n",
    "print(f\"I'm {person2.Name} My age is {person2.age}\")"
   ]
  },
  {
   "cell_type": "code",
   "execution_count": 52,
   "metadata": {},
   "outputs": [
    {
     "name": "stdout",
     "output_type": "stream",
     "text": [
      "Hi Neelakandan, your total ,mark is 475\n"
     ]
    }
   ],
   "source": [
    "class Student:\n",
    "    def __init__(self,name,tamil,english,maths,science,social):\n",
    "        self.name=name\n",
    "        self.tamil=tamil\n",
    "        self.english=english\n",
    "        self.maths=maths\n",
    "        self.science=science\n",
    "        self.social=social\n",
    "\n",
    "student1=Student('Neelakandan',91,94,95,99,96)\n",
    "print(f\"Hi {student1.name}, your total ,mark is {student1.tamil+student1.english+student1.maths+student1.science+student1.social}\")\n"
   ]
  },
  {
   "cell_type": "markdown",
   "metadata": {},
   "source": [
    "# **Static vs instance**"
   ]
  },
  {
   "cell_type": "code",
   "execution_count": 64,
   "metadata": {},
   "outputs": [
    {
     "name": "stdout",
     "output_type": "stream",
     "text": [
      " I'm sleeping for 8 Hours\n",
      "nee is eating.\n"
     ]
    }
   ],
   "source": [
    "class Person:\n",
    "    #static variable\n",
    "    sleepingtime=8\n",
    "    def __init__(self,name,age):\n",
    "        self.name=name\n",
    "        self.age=age\n",
    "\n",
    "    #static method\n",
    "    @staticmethod\n",
    "    def sleep():\n",
    "        print(\"I'm sleeping for\",Person.sleepingtime,\"Hours\")\n",
    "\n",
    "    def eat(self):\n",
    "        print(f\"{self.name} is eating.\")\n",
    "\n",
    "Person.sleep()\n",
    "person1=Person('nee',1)\n",
    "person1.eat()"
   ]
  },
  {
   "cell_type": "code",
   "execution_count": null,
   "metadata": {},
   "outputs": [],
   "source": []
  }
 ],
 "metadata": {
  "kernelspec": {
   "display_name": ".venv",
   "language": "python",
   "name": "python3"
  },
  "language_info": {
   "codemirror_mode": {
    "name": "ipython",
    "version": 3
   },
   "file_extension": ".py",
   "mimetype": "text/x-python",
   "name": "python",
   "nbconvert_exporter": "python",
   "pygments_lexer": "ipython3",
   "version": "3.11.3"
  }
 },
 "nbformat": 4,
 "nbformat_minor": 2
}
