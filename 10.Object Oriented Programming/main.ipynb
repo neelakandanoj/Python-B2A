{
 "cells": [
  {
   "cell_type": "code",
   "execution_count": 3,
   "metadata": {},
   "outputs": [
    {
     "name": "stdout",
     "output_type": "stream",
     "text": [
      "Lion yellow\n",
      "dove white\n"
     ]
    }
   ],
   "source": [
    "name=\"Lion\"\n",
    "color='yellow'\n",
    "_name='dove'\n",
    "_color='white'\n",
    "print(name,color)\n",
    "print(_name,_color)"
   ]
  },
  {
   "cell_type": "code",
   "execution_count": 7,
   "metadata": {},
   "outputs": [
    {
     "name": "stdout",
     "output_type": "stream",
     "text": [
      "Lion\n",
      "Tiger\n"
     ]
    }
   ],
   "source": [
    "class Object:\n",
    "    def __init__(self,name):\n",
    "       self.name=name\n",
    "\n",
    "class Animal(Object):\n",
    "    pass\n",
    "animal1=Animal('Lion')\n",
    "animal2=Animal('Tiger')\n",
    "print(animal1.name)\n",
    "print(animal2.name)\n"
   ]
  },
  {
   "cell_type": "code",
   "execution_count": null,
   "metadata": {},
   "outputs": [],
   "source": []
  }
 ],
 "metadata": {
  "kernelspec": {
   "display_name": ".venv",
   "language": "python",
   "name": "python3"
  },
  "language_info": {
   "codemirror_mode": {
    "name": "ipython",
    "version": 3
   },
   "file_extension": ".py",
   "mimetype": "text/x-python",
   "name": "python",
   "nbconvert_exporter": "python",
   "pygments_lexer": "ipython3",
   "version": "3.11.3"
  }
 },
 "nbformat": 4,
 "nbformat_minor": 2
}
