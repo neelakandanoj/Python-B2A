{
 "cells": [
  {
   "cell_type": "code",
   "execution_count": null,
   "metadata": {},
   "outputs": [],
   "source": [
    "import pandas as pd"
   ]
  },
  {
   "cell_type": "code",
   "execution_count": null,
   "metadata": {},
   "outputs": [],
   "source": [
    "df=pd.read_excel(r\"E:\\Python B2A\\14.Pandas\\Sample - Superstore.xls\")\n",
    "df.head()"
   ]
  },
  {
   "cell_type": "code",
   "execution_count": null,
   "metadata": {},
   "outputs": [],
   "source": [
    "df.describe()"
   ]
  },
  {
   "cell_type": "code",
   "execution_count": null,
   "metadata": {},
   "outputs": [],
   "source": [
    "df.columns"
   ]
  },
  {
   "cell_type": "code",
   "execution_count": null,
   "metadata": {},
   "outputs": [],
   "source": [
    "df[df.Sales>1000].describe()"
   ]
  },
  {
   "cell_type": "code",
   "execution_count": null,
   "metadata": {},
   "outputs": [],
   "source": [
    "df.Sales.sort_values()"
   ]
  },
  {
   "cell_type": "code",
   "execution_count": null,
   "metadata": {},
   "outputs": [],
   "source": [
    "df.Sales.value_counts()"
   ]
  },
  {
   "cell_type": "code",
   "execution_count": null,
   "metadata": {},
   "outputs": [],
   "source": [
    "orders=df"
   ]
  },
  {
   "cell_type": "code",
   "execution_count": null,
   "metadata": {},
   "outputs": [],
   "source": [
    "orders.head()"
   ]
  },
  {
   "cell_type": "code",
   "execution_count": null,
   "metadata": {},
   "outputs": [],
   "source": [
    "orders[orders.Sales>=500]"
   ]
  },
  {
   "cell_type": "code",
   "execution_count": null,
   "metadata": {},
   "outputs": [],
   "source": [
    "orders.columns"
   ]
  },
  {
   "cell_type": "code",
   "execution_count": null,
   "metadata": {},
   "outputs": [],
   "source": [
    "orders['Ship Mode'].value_counts()"
   ]
  },
  {
   "cell_type": "code",
   "execution_count": null,
   "metadata": {},
   "outputs": [],
   "source": [
    "orders[(orders['Sales']>=500) & (orders['Ship Mode']=='Same Day')]"
   ]
  },
  {
   "cell_type": "code",
   "execution_count": null,
   "metadata": {},
   "outputs": [],
   "source": [
    "fil_order=orders[(orders['Sales']>500)& (orders['Ship Mode'].isin(['Same Day','First Class']))]"
   ]
  },
  {
   "cell_type": "code",
   "execution_count": null,
   "metadata": {},
   "outputs": [],
   "source": [
    "fil_order.sort_values('Sales')"
   ]
  },
  {
   "cell_type": "code",
   "execution_count": null,
   "metadata": {},
   "outputs": [],
   "source": [
    "orders.drop(columns=['Row ID','Order ID'],axis=1,inplace=True)\n",
    "orders"
   ]
  },
  {
   "cell_type": "code",
   "execution_count": null,
   "metadata": {},
   "outputs": [],
   "source": [
    "orders.head()"
   ]
  },
  {
   "cell_type": "code",
   "execution_count": null,
   "metadata": {},
   "outputs": [],
   "source": [
    "del orders['Order Date']\n",
    "orders.head()"
   ]
  },
  {
   "cell_type": "code",
   "execution_count": null,
   "metadata": {},
   "outputs": [],
   "source": [
    "orders['Actual cost']=orders['Sales']-orders['Profit']\n",
    "orders"
   ]
  },
  {
   "cell_type": "code",
   "execution_count": 28,
   "metadata": {},
   "outputs": [
    {
     "data": {
      "text/plain": [
       "Index(['Ship Date', 'Ship Mode', 'Customer ID', 'Customer Name', 'Segment',\n",
       "       'Country', 'City', 'State', 'Postal Code', 'Region', 'Product ID',\n",
       "       'Category', 'Sub-Category', 'Product Name', 'Sales', 'Quantity',\n",
       "       'Discount', 'Profit', 'Actual cost'],\n",
       "      dtype='object')"
      ]
     },
     "execution_count": 28,
     "metadata": {},
     "output_type": "execute_result"
    }
   ],
   "source": [
    "orders.columns"
   ]
  },
  {
   "cell_type": "code",
   "execution_count": 35,
   "metadata": {},
   "outputs": [
    {
     "data": {
      "text/plain": [
       "Segment\n",
       "Consumer       1.161401e+06\n",
       "Corporate      7.061464e+05\n",
       "Home Office    4.296531e+05\n",
       "Name: Sales, dtype: float64"
      ]
     },
     "execution_count": 35,
     "metadata": {},
     "output_type": "execute_result"
    }
   ],
   "source": [
    "orders.groupby(\"Segment\").Sales.sum()"
   ]
  },
  {
   "cell_type": "code",
   "execution_count": 36,
   "metadata": {},
   "outputs": [
    {
     "data": {
      "text/plain": [
       "Product Name                                              \n",
       "\"While you Were Out\" Message Book, One Form per Page  1708      3.7100\n",
       "                                                      3782      3.3390\n",
       "                                                      7321      3.3390\n",
       "#10 Gummed Flap White Envelopes, 100/Box              3741      7.5992\n",
       "                                                      355       3.7996\n",
       "                                                                ...   \n",
       "netTALK DUO VoIP Telephone Service                    3209    141.7230\n",
       "                                                      68       62.9880\n",
       "                                                      1672     62.9880\n",
       "                                                      1696     52.4900\n",
       "                                                      2744     47.2410\n",
       "Name: Profit, Length: 7667, dtype: float64"
      ]
     },
     "execution_count": 36,
     "metadata": {},
     "output_type": "execute_result"
    }
   ],
   "source": [
    "orders.groupby(\"Product Name\").Profit.nlargest(5)"
   ]
  },
  {
   "cell_type": "code",
   "execution_count": 37,
   "metadata": {},
   "outputs": [
    {
     "data": {
      "text/plain": [
       "Product Name                                              \n",
       "\"While you Were Out\" Message Book, One Form per Page  3782     3.3390\n",
       "                                                      7321     3.3390\n",
       "                                                      1708     3.7100\n",
       "#10 Gummed Flap White Envelopes, 100/Box              2585     2.1476\n",
       "                                                      7827     3.2214\n",
       "                                                               ...   \n",
       "netTALK DUO VoIP Telephone Service                    1612    31.4940\n",
       "                                                      3352    31.4940\n",
       "                                                      2744    47.2410\n",
       "                                                      1696    52.4900\n",
       "                                                      68      62.9880\n",
       "Name: Profit, Length: 7667, dtype: float64"
      ]
     },
     "execution_count": 37,
     "metadata": {},
     "output_type": "execute_result"
    }
   ],
   "source": [
    "orders.groupby(\"Product Name\").Profit.nsmallest(5)"
   ]
  },
  {
   "cell_type": "code",
   "execution_count": 39,
   "metadata": {},
   "outputs": [
    {
     "data": {
      "text/html": [
       "<div>\n",
       "<style scoped>\n",
       "    .dataframe tbody tr th:only-of-type {\n",
       "        vertical-align: middle;\n",
       "    }\n",
       "\n",
       "    .dataframe tbody tr th {\n",
       "        vertical-align: top;\n",
       "    }\n",
       "\n",
       "    .dataframe thead th {\n",
       "        text-align: right;\n",
       "    }\n",
       "</style>\n",
       "<table border=\"1\" class=\"dataframe\">\n",
       "  <thead>\n",
       "    <tr style=\"text-align: right;\">\n",
       "      <th></th>\n",
       "      <th>sum</th>\n",
       "      <th>mean</th>\n",
       "      <th>max</th>\n",
       "      <th>min</th>\n",
       "    </tr>\n",
       "    <tr>\n",
       "      <th>Product Name</th>\n",
       "      <th></th>\n",
       "      <th></th>\n",
       "      <th></th>\n",
       "      <th></th>\n",
       "    </tr>\n",
       "  </thead>\n",
       "  <tbody>\n",
       "    <tr>\n",
       "      <th>\"While you Were Out\" Message Book, One Form per Page</th>\n",
       "      <td>10.3880</td>\n",
       "      <td>3.462667</td>\n",
       "      <td>3.7100</td>\n",
       "      <td>3.3390</td>\n",
       "    </tr>\n",
       "    <tr>\n",
       "      <th>#10 Gummed Flap White Envelopes, 100/Box</th>\n",
       "      <td>16.7678</td>\n",
       "      <td>4.191950</td>\n",
       "      <td>7.5992</td>\n",
       "      <td>2.1476</td>\n",
       "    </tr>\n",
       "    <tr>\n",
       "      <th>#10 Self-Seal White Envelopes</th>\n",
       "      <td>52.1230</td>\n",
       "      <td>13.030750</td>\n",
       "      <td>32.6046</td>\n",
       "      <td>3.2161</td>\n",
       "    </tr>\n",
       "    <tr>\n",
       "      <th>#10 White Business Envelopes,4 1/8 x 9 1/2</th>\n",
       "      <td>223.1408</td>\n",
       "      <td>31.877257</td>\n",
       "      <td>58.9192</td>\n",
       "      <td>4.2309</td>\n",
       "    </tr>\n",
       "    <tr>\n",
       "      <th>#10- 4 1/8\" x 9 1/2\" Recycled Envelopes</th>\n",
       "      <td>115.2806</td>\n",
       "      <td>11.528060</td>\n",
       "      <td>20.5390</td>\n",
       "      <td>4.7196</td>\n",
       "    </tr>\n",
       "    <tr>\n",
       "      <th>...</th>\n",
       "      <td>...</td>\n",
       "      <td>...</td>\n",
       "      <td>...</td>\n",
       "      <td>...</td>\n",
       "    </tr>\n",
       "    <tr>\n",
       "      <th>iKross Bluetooth Portable Keyboard + Cell Phone Stand Holder + Brush for Apple iPhone 5S 5C 5, 4S 4</th>\n",
       "      <td>115.6440</td>\n",
       "      <td>23.128800</td>\n",
       "      <td>58.6600</td>\n",
       "      <td>3.3520</td>\n",
       "    </tr>\n",
       "    <tr>\n",
       "      <th>iOttie HLCRIO102 Car Mount</th>\n",
       "      <td>-11.9940</td>\n",
       "      <td>-2.398800</td>\n",
       "      <td>5.9970</td>\n",
       "      <td>-13.9930</td>\n",
       "    </tr>\n",
       "    <tr>\n",
       "      <th>iOttie XL Car Mount</th>\n",
       "      <td>-50.3748</td>\n",
       "      <td>-25.187400</td>\n",
       "      <td>-17.9910</td>\n",
       "      <td>-32.3838</td>\n",
       "    </tr>\n",
       "    <tr>\n",
       "      <th>invisibleSHIELD by ZAGG Smudge-Free Screen Protector</th>\n",
       "      <td>171.2648</td>\n",
       "      <td>24.466400</td>\n",
       "      <td>43.1760</td>\n",
       "      <td>4.3176</td>\n",
       "    </tr>\n",
       "    <tr>\n",
       "      <th>netTALK DUO VoIP Telephone Service</th>\n",
       "      <td>430.4180</td>\n",
       "      <td>61.488286</td>\n",
       "      <td>141.7230</td>\n",
       "      <td>31.4940</td>\n",
       "    </tr>\n",
       "  </tbody>\n",
       "</table>\n",
       "<p>1850 rows × 4 columns</p>\n",
       "</div>"
      ],
      "text/plain": [
       "                                                         sum       mean  \\\n",
       "Product Name                                                              \n",
       "\"While you Were Out\" Message Book, One Form per...   10.3880   3.462667   \n",
       "#10 Gummed Flap White Envelopes, 100/Box             16.7678   4.191950   \n",
       "#10 Self-Seal White Envelopes                        52.1230  13.030750   \n",
       "#10 White Business Envelopes,4 1/8 x 9 1/2          223.1408  31.877257   \n",
       "#10- 4 1/8\" x 9 1/2\" Recycled Envelopes             115.2806  11.528060   \n",
       "...                                                      ...        ...   \n",
       "iKross Bluetooth Portable Keyboard + Cell Phone...  115.6440  23.128800   \n",
       "iOttie HLCRIO102 Car Mount                          -11.9940  -2.398800   \n",
       "iOttie XL Car Mount                                 -50.3748 -25.187400   \n",
       "invisibleSHIELD by ZAGG Smudge-Free Screen Prot...  171.2648  24.466400   \n",
       "netTALK DUO VoIP Telephone Service                  430.4180  61.488286   \n",
       "\n",
       "                                                         max      min  \n",
       "Product Name                                                           \n",
       "\"While you Were Out\" Message Book, One Form per...    3.7100   3.3390  \n",
       "#10 Gummed Flap White Envelopes, 100/Box              7.5992   2.1476  \n",
       "#10 Self-Seal White Envelopes                        32.6046   3.2161  \n",
       "#10 White Business Envelopes,4 1/8 x 9 1/2           58.9192   4.2309  \n",
       "#10- 4 1/8\" x 9 1/2\" Recycled Envelopes              20.5390   4.7196  \n",
       "...                                                      ...      ...  \n",
       "iKross Bluetooth Portable Keyboard + Cell Phone...   58.6600   3.3520  \n",
       "iOttie HLCRIO102 Car Mount                            5.9970 -13.9930  \n",
       "iOttie XL Car Mount                                 -17.9910 -32.3838  \n",
       "invisibleSHIELD by ZAGG Smudge-Free Screen Prot...   43.1760   4.3176  \n",
       "netTALK DUO VoIP Telephone Service                  141.7230  31.4940  \n",
       "\n",
       "[1850 rows x 4 columns]"
      ]
     },
     "execution_count": 39,
     "metadata": {},
     "output_type": "execute_result"
    }
   ],
   "source": [
    "orders.groupby(\"Product Name\").Profit.agg([\"sum\",\"mean\",\"max\",'min'])"
   ]
  },
  {
   "cell_type": "code",
   "execution_count": 40,
   "metadata": {},
   "outputs": [
    {
     "data": {
      "text/html": [
       "<div>\n",
       "<style scoped>\n",
       "    .dataframe tbody tr th:only-of-type {\n",
       "        vertical-align: middle;\n",
       "    }\n",
       "\n",
       "    .dataframe tbody tr th {\n",
       "        vertical-align: top;\n",
       "    }\n",
       "\n",
       "    .dataframe thead th {\n",
       "        text-align: right;\n",
       "    }\n",
       "</style>\n",
       "<table border=\"1\" class=\"dataframe\">\n",
       "  <thead>\n",
       "    <tr style=\"text-align: right;\">\n",
       "      <th></th>\n",
       "      <th></th>\n",
       "      <th>sum</th>\n",
       "      <th>mean</th>\n",
       "      <th>max</th>\n",
       "      <th>min</th>\n",
       "    </tr>\n",
       "    <tr>\n",
       "      <th>Product Name</th>\n",
       "      <th>Ship Mode</th>\n",
       "      <th></th>\n",
       "      <th></th>\n",
       "      <th></th>\n",
       "      <th></th>\n",
       "    </tr>\n",
       "  </thead>\n",
       "  <tbody>\n",
       "    <tr>\n",
       "      <th rowspan=\"2\" valign=\"top\">\"While you Were Out\" Message Book, One Form per Page</th>\n",
       "      <th>Second Class</th>\n",
       "      <td>3.3390</td>\n",
       "      <td>3.33900</td>\n",
       "      <td>3.3390</td>\n",
       "      <td>3.3390</td>\n",
       "    </tr>\n",
       "    <tr>\n",
       "      <th>Standard Class</th>\n",
       "      <td>7.0490</td>\n",
       "      <td>3.52450</td>\n",
       "      <td>3.7100</td>\n",
       "      <td>3.3390</td>\n",
       "    </tr>\n",
       "    <tr>\n",
       "      <th>#10 Gummed Flap White Envelopes, 100/Box</th>\n",
       "      <th>Standard Class</th>\n",
       "      <td>16.7678</td>\n",
       "      <td>4.19195</td>\n",
       "      <td>7.5992</td>\n",
       "      <td>2.1476</td>\n",
       "    </tr>\n",
       "    <tr>\n",
       "      <th rowspan=\"2\" valign=\"top\">#10 Self-Seal White Envelopes</th>\n",
       "      <th>Same Day</th>\n",
       "      <td>10.8682</td>\n",
       "      <td>10.86820</td>\n",
       "      <td>10.8682</td>\n",
       "      <td>10.8682</td>\n",
       "    </tr>\n",
       "    <tr>\n",
       "      <th>Standard Class</th>\n",
       "      <td>41.2548</td>\n",
       "      <td>13.75160</td>\n",
       "      <td>32.6046</td>\n",
       "      <td>3.2161</td>\n",
       "    </tr>\n",
       "    <tr>\n",
       "      <th>...</th>\n",
       "      <th>...</th>\n",
       "      <td>...</td>\n",
       "      <td>...</td>\n",
       "      <td>...</td>\n",
       "      <td>...</td>\n",
       "    </tr>\n",
       "    <tr>\n",
       "      <th rowspan=\"3\" valign=\"top\">invisibleSHIELD by ZAGG Smudge-Free Screen Protector</th>\n",
       "      <th>First Class</th>\n",
       "      <td>15.1116</td>\n",
       "      <td>15.11160</td>\n",
       "      <td>15.1116</td>\n",
       "      <td>15.1116</td>\n",
       "    </tr>\n",
       "    <tr>\n",
       "      <th>Second Class</th>\n",
       "      <td>43.1760</td>\n",
       "      <td>43.17600</td>\n",
       "      <td>43.1760</td>\n",
       "      <td>43.1760</td>\n",
       "    </tr>\n",
       "    <tr>\n",
       "      <th>Standard Class</th>\n",
       "      <td>112.9772</td>\n",
       "      <td>22.59544</td>\n",
       "      <td>43.1760</td>\n",
       "      <td>4.3176</td>\n",
       "    </tr>\n",
       "    <tr>\n",
       "      <th rowspan=\"2\" valign=\"top\">netTALK DUO VoIP Telephone Service</th>\n",
       "      <th>Second Class</th>\n",
       "      <td>99.7310</td>\n",
       "      <td>49.86550</td>\n",
       "      <td>52.4900</td>\n",
       "      <td>47.2410</td>\n",
       "    </tr>\n",
       "    <tr>\n",
       "      <th>Standard Class</th>\n",
       "      <td>330.6870</td>\n",
       "      <td>66.13740</td>\n",
       "      <td>141.7230</td>\n",
       "      <td>31.4940</td>\n",
       "    </tr>\n",
       "  </tbody>\n",
       "</table>\n",
       "<p>4465 rows × 4 columns</p>\n",
       "</div>"
      ],
      "text/plain": [
       "                                                                        sum  \\\n",
       "Product Name                                       Ship Mode                  \n",
       "\"While you Were Out\" Message Book, One Form per... Second Class      3.3390   \n",
       "                                                   Standard Class    7.0490   \n",
       "#10 Gummed Flap White Envelopes, 100/Box           Standard Class   16.7678   \n",
       "#10 Self-Seal White Envelopes                      Same Day         10.8682   \n",
       "                                                   Standard Class   41.2548   \n",
       "...                                                                     ...   \n",
       "invisibleSHIELD by ZAGG Smudge-Free Screen Prot... First Class      15.1116   \n",
       "                                                   Second Class     43.1760   \n",
       "                                                   Standard Class  112.9772   \n",
       "netTALK DUO VoIP Telephone Service                 Second Class     99.7310   \n",
       "                                                   Standard Class  330.6870   \n",
       "\n",
       "                                                                       mean  \\\n",
       "Product Name                                       Ship Mode                  \n",
       "\"While you Were Out\" Message Book, One Form per... Second Class     3.33900   \n",
       "                                                   Standard Class   3.52450   \n",
       "#10 Gummed Flap White Envelopes, 100/Box           Standard Class   4.19195   \n",
       "#10 Self-Seal White Envelopes                      Same Day        10.86820   \n",
       "                                                   Standard Class  13.75160   \n",
       "...                                                                     ...   \n",
       "invisibleSHIELD by ZAGG Smudge-Free Screen Prot... First Class     15.11160   \n",
       "                                                   Second Class    43.17600   \n",
       "                                                   Standard Class  22.59544   \n",
       "netTALK DUO VoIP Telephone Service                 Second Class    49.86550   \n",
       "                                                   Standard Class  66.13740   \n",
       "\n",
       "                                                                        max  \\\n",
       "Product Name                                       Ship Mode                  \n",
       "\"While you Were Out\" Message Book, One Form per... Second Class      3.3390   \n",
       "                                                   Standard Class    3.7100   \n",
       "#10 Gummed Flap White Envelopes, 100/Box           Standard Class    7.5992   \n",
       "#10 Self-Seal White Envelopes                      Same Day         10.8682   \n",
       "                                                   Standard Class   32.6046   \n",
       "...                                                                     ...   \n",
       "invisibleSHIELD by ZAGG Smudge-Free Screen Prot... First Class      15.1116   \n",
       "                                                   Second Class     43.1760   \n",
       "                                                   Standard Class   43.1760   \n",
       "netTALK DUO VoIP Telephone Service                 Second Class     52.4900   \n",
       "                                                   Standard Class  141.7230   \n",
       "\n",
       "                                                                       min  \n",
       "Product Name                                       Ship Mode                \n",
       "\"While you Were Out\" Message Book, One Form per... Second Class     3.3390  \n",
       "                                                   Standard Class   3.3390  \n",
       "#10 Gummed Flap White Envelopes, 100/Box           Standard Class   2.1476  \n",
       "#10 Self-Seal White Envelopes                      Same Day        10.8682  \n",
       "                                                   Standard Class   3.2161  \n",
       "...                                                                    ...  \n",
       "invisibleSHIELD by ZAGG Smudge-Free Screen Prot... First Class     15.1116  \n",
       "                                                   Second Class    43.1760  \n",
       "                                                   Standard Class   4.3176  \n",
       "netTALK DUO VoIP Telephone Service                 Second Class    47.2410  \n",
       "                                                   Standard Class  31.4940  \n",
       "\n",
       "[4465 rows x 4 columns]"
      ]
     },
     "execution_count": 40,
     "metadata": {},
     "output_type": "execute_result"
    }
   ],
   "source": [
    "orders.groupby([\"Product Name\",\"Ship Mode\"]).Profit.agg([\"sum\",\"mean\",\"max\",'min'])"
   ]
  },
  {
   "cell_type": "code",
   "execution_count": 41,
   "metadata": {},
   "outputs": [
    {
     "data": {
      "text/plain": [
       "3"
      ]
     },
     "execution_count": 41,
     "metadata": {},
     "output_type": "execute_result"
    }
   ],
   "source": [
    "orders['Category'].nunique()"
   ]
  },
  {
   "cell_type": "code",
   "execution_count": 44,
   "metadata": {},
   "outputs": [
    {
     "data": {
      "text/plain": [
       "Category\n",
       "Office Supplies    6026\n",
       "Furniture          2121\n",
       "Technology         1847\n",
       "Name: count, dtype: int64"
      ]
     },
     "execution_count": 44,
     "metadata": {},
     "output_type": "execute_result"
    }
   ],
   "source": [
    "orders['Category'].value_counts()"
   ]
  },
  {
   "cell_type": "code",
   "execution_count": 46,
   "metadata": {},
   "outputs": [
    {
     "data": {
      "text/plain": [
       "0             furniture\n",
       "1             furniture\n",
       "2       office supplies\n",
       "3             furniture\n",
       "4       office supplies\n",
       "             ...       \n",
       "9989          furniture\n",
       "9990          furniture\n",
       "9991         technology\n",
       "9992    office supplies\n",
       "9993    office supplies\n",
       "Name: Category, Length: 9994, dtype: object"
      ]
     },
     "execution_count": 46,
     "metadata": {},
     "output_type": "execute_result"
    }
   ],
   "source": [
    "orders['Category'].str.lower()"
   ]
  },
  {
   "cell_type": "code",
   "execution_count": null,
   "metadata": {},
   "outputs": [],
   "source": []
  }
 ],
 "metadata": {
  "kernelspec": {
   "display_name": ".venv",
   "language": "python",
   "name": "python3"
  },
  "language_info": {
   "codemirror_mode": {
    "name": "ipython",
    "version": 3
   },
   "file_extension": ".py",
   "mimetype": "text/x-python",
   "name": "python",
   "nbconvert_exporter": "python",
   "pygments_lexer": "ipython3",
   "version": "3.11.3"
  }
 },
 "nbformat": 4,
 "nbformat_minor": 2
}
