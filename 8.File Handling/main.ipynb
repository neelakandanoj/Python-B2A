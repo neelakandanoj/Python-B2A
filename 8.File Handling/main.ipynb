{
 "cells": [
  {
   "cell_type": "code",
   "execution_count": 6,
   "metadata": {},
   "outputs": [
    {
     "name": "stdout",
     "output_type": "stream",
     "text": [
      "['This is some text file\\n', 'var\\n', 'this is third line']\n"
     ]
    }
   ],
   "source": [
    "file=open(\"data.txt\",'r')\n",
    "content=file.readlines()\n",
    "print(content)\n",
    "file.close()\n"
   ]
  },
  {
   "cell_type": "code",
   "execution_count": 7,
   "metadata": {},
   "outputs": [],
   "source": [
    "file=open(\"data.txt\",\"w\")\n",
    "file.write(\"New Content to the added to file\")\n",
    "file.close()"
   ]
  },
  {
   "cell_type": "code",
   "execution_count": 11,
   "metadata": {},
   "outputs": [],
   "source": [
    "file=open(\"data.txt\",\"a\")\n",
    "file.write(\"\\nThis is Third line\")\n",
    "file.close()\n"
   ]
  },
  {
   "cell_type": "code",
   "execution_count": 10,
   "metadata": {},
   "outputs": [
    {
     "name": "stdout",
     "output_type": "stream",
     "text": [
      "New Content to the added to file\n",
      "This is second line\n"
     ]
    }
   ],
   "source": [
    "with open(\"data.txt\",'r') as file:\n",
    "    content=file.read()\n",
    "    print(content)\n"
   ]
  },
  {
   "cell_type": "code",
   "execution_count": 13,
   "metadata": {},
   "outputs": [
    {
     "name": "stdout",
     "output_type": "stream",
     "text": [
      "New Content to the added to file\n",
      "\n"
     ]
    }
   ],
   "source": [
    "with open('data.txt','r') as file:\n",
    "    content=file.readline()\n",
    "print(content)"
   ]
  },
  {
   "cell_type": "code",
   "execution_count": 17,
   "metadata": {},
   "outputs": [
    {
     "name": "stdout",
     "output_type": "stream",
     "text": [
      "New Content to the added to file\n",
      "\n",
      "This is second line\n",
      "\n",
      "This is Third line  \n"
     ]
    }
   ],
   "source": [
    "with open('data.txt','r') as file:\n",
    "    content=file.readlines()\n",
    "for line in content:\n",
    "    print(line)"
   ]
  },
  {
   "cell_type": "code",
   "execution_count": 23,
   "metadata": {},
   "outputs": [
    {
     "name": "stdout",
     "output_type": "stream",
     "text": [
      "New Content to the added to file\n",
      "This is second line\n",
      "\n",
      "This is Third line\n"
     ]
    }
   ],
   "source": [
    "with open('sample.txt','r') as file:\n",
    "    content=file.readlines()\n",
    "for line in content:\n",
    "    print(line.strip())"
   ]
  },
  {
   "cell_type": "code",
   "execution_count": 3,
   "metadata": {},
   "outputs": [],
   "source": [
    "with open(\"names.txt\",'a') as file:\n",
    "    name=input(\"enter the name to added: \")\n",
    "    # password=input(\"Enter the pssword: \")\n",
    "    file.write(name+'\\n')\n"
   ]
  },
  {
   "cell_type": "code",
   "execution_count": 11,
   "metadata": {},
   "outputs": [
    {
     "name": "stdout",
     "output_type": "stream",
     "text": [
      "Tom\n",
      "\n",
      "Eew\n",
      "\n",
      "\n",
      "Wok\n"
     ]
    }
   ],
   "source": [
    "with open(\"names.txt\",\"r\") as file:\n",
    "    lines=file.readlines()\n",
    "for l in lines:\n",
    "    print(l.strip().capitalize())\n"
   ]
  },
  {
   "cell_type": "code",
   "execution_count": 15,
   "metadata": {},
   "outputs": [],
   "source": [
    "def save_user():\n",
    "    name=input(\"enter name: \")\n",
    "    email=input(\"enter the email: \")\n",
    "    contact=input(\"enter the number: \")\n",
    "\n",
    "    user_data=f\"Name: {name}\\nEmail: {email}\\nContact: {contact}\\n\"\n",
    "    with open(\"user_data.txt\",\"a\") as file:\n",
    "        file.write(user_data)\n",
    "\n",
    "save_user()"
   ]
  },
  {
   "cell_type": "code",
   "execution_count": null,
   "metadata": {},
   "outputs": [],
   "source": []
  }
 ],
 "metadata": {
  "kernelspec": {
   "display_name": ".venv",
   "language": "python",
   "name": "python3"
  },
  "language_info": {
   "codemirror_mode": {
    "name": "ipython",
    "version": 3
   },
   "file_extension": ".py",
   "mimetype": "text/x-python",
   "name": "python",
   "nbconvert_exporter": "python",
   "pygments_lexer": "ipython3",
   "version": "3.11.3"
  }
 },
 "nbformat": 4,
 "nbformat_minor": 2
}
