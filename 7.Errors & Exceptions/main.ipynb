{
 "cells": [
  {
   "cell_type": "code",
   "execution_count": 7,
   "metadata": {},
   "outputs": [
    {
     "name": "stdout",
     "output_type": "stream",
     "text": [
      "the number divide is 0.8888888888888888\n",
      "The End\n"
     ]
    }
   ],
   "source": [
    "n1=int(input(\"enter the number :\"))\n",
    "n2=int(input(\"enter the number :\"))\n",
    "\n",
    "try:\n",
    "    c=n1/n2\n",
    "except Exception as e:\n",
    "    print(e)\n",
    "else: # when no except block work\n",
    "    print(f\"the number divide is {c}\")\n",
    "finally:\n",
    "    print(\"The End\")"
   ]
  },
  {
   "cell_type": "code",
   "execution_count": null,
   "metadata": {},
   "outputs": [],
   "source": []
  }
 ],
 "metadata": {
  "kernelspec": {
   "display_name": ".venv",
   "language": "python",
   "name": "python3"
  },
  "language_info": {
   "codemirror_mode": {
    "name": "ipython",
    "version": 3
   },
   "file_extension": ".py",
   "mimetype": "text/x-python",
   "name": "python",
   "nbconvert_exporter": "python",
   "pygments_lexer": "ipython3",
   "version": "3.11.3"
  }
 },
 "nbformat": 4,
 "nbformat_minor": 2
}
