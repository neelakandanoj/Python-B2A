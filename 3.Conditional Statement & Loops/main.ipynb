{
 "cells": [
  {
   "cell_type": "code",
   "execution_count": 4,
   "metadata": {},
   "outputs": [
    {
     "name": "stdout",
     "output_type": "stream",
     "text": [
      "Negative\n"
     ]
    }
   ],
   "source": [
    "a=int(input(\"enter a number\"))\n",
    "if (a>0):\n",
    "    print(\"Positive\")\n",
    "else:\n",
    "    print(\"Negative\")"
   ]
  },
  {
   "cell_type": "code",
   "execution_count": null,
   "metadata": {},
   "outputs": [],
   "source": [
    "a,b,c=9,7,6\n",
    "if (a<b):\n",
    "    pass"
   ]
  },
  {
   "cell_type": "code",
   "execution_count": 5,
   "metadata": {},
   "outputs": [
    {
     "name": "stdout",
     "output_type": "stream",
     "text": [
      "No eligible to vote\n"
     ]
    }
   ],
   "source": [
    "age=int(input(\"enter the age: \"))\n",
    "voterId=True\n",
    "if (age>18) or age!=18:\n",
    "    print(\"Eligible to vote\")\n",
    "else:\n",
    "    voterId=False\n",
    "    print(\"No eligible to vote\")"
   ]
  },
  {
   "cell_type": "code",
   "execution_count": 5,
   "metadata": {},
   "outputs": [
    {
     "name": "stdout",
     "output_type": "stream",
     "text": [
      "not an adu\n"
     ]
    }
   ],
   "source": [
    "age=15\n",
    "if (age>=18):\n",
    "    print(\"you are adult\")\n",
    "else:\n",
    "    print(\"not an adu\")"
   ]
  },
  {
   "cell_type": "code",
   "execution_count": 9,
   "metadata": {},
   "outputs": [
    {
     "name": "stdout",
     "output_type": "stream",
     "text": [
      "A grade\n"
     ]
    }
   ],
   "source": [
    "Marks=90\n",
    "if (Marks>90):\n",
    "    print(\"A+ grade\")\n",
    "elif (Marks>80):\n",
    "    print(\"A grade\")\n",
    "else:\n",
    "    print(\"B grade\")"
   ]
  },
  {
   "cell_type": "code",
   "execution_count": 4,
   "metadata": {},
   "outputs": [
    {
     "name": "stdout",
     "output_type": "stream",
     "text": [
      " b is not greater than 15 and a is greter than 5\n"
     ]
    }
   ],
   "source": [
    "a=13\n",
    "b=2\n",
    "\n",
    "if a>5:\n",
    "    if b>15:\n",
    "        print(\"A is graeter than\")\n",
    "    else:\n",
    "        print(\" b is not greater than 15 and a is greter than 5\")\n",
    "else:\n",
    "    print(\"a is not greater than 5\")"
   ]
  },
  {
   "cell_type": "code",
   "execution_count": 10,
   "metadata": {},
   "outputs": [
    {
     "name": "stdout",
     "output_type": "stream",
     "text": [
      "You passed age but score is not passed. so,not qualified\n"
     ]
    }
   ],
   "source": [
    "age=int(input(\"enter the age: \"))\n",
    "\n",
    "if age>=18:\n",
    "    score=int(input(\"Enter the Score\"))\n",
    "    if score>=40:\n",
    "        print(f\"Your score is {score} you are qualified\")\n",
    "    else:\n",
    "        print(\"You passed age but score is not passed. so,not qualified\")\n",
    "else:\n",
    "    print(\"You are Not eligible, Bcoz you are below 18.\")\n"
   ]
  },
  {
   "cell_type": "code",
   "execution_count": 11,
   "metadata": {},
   "outputs": [
    {
     "name": "stdout",
     "output_type": "stream",
     "text": [
      "range(0, 10)\n"
     ]
    }
   ],
   "source": [
    "print(range(10))"
   ]
  },
  {
   "cell_type": "code",
   "execution_count": 14,
   "metadata": {},
   "outputs": [
    {
     "data": {
      "text/plain": [
       "[1, 3, 5, 7, 9]"
      ]
     },
     "execution_count": 14,
     "metadata": {},
     "output_type": "execute_result"
    }
   ],
   "source": [
    "number=list(range(1,10,2))\n",
    "number"
   ]
  },
  {
   "cell_type": "code",
   "execution_count": 15,
   "metadata": {},
   "outputs": [
    {
     "data": {
      "text/plain": [
       "[1, 2, 3, 4, 5, 6, 7, 8, 9]"
      ]
     },
     "execution_count": 15,
     "metadata": {},
     "output_type": "execute_result"
    }
   ],
   "source": [
    "number=list(range(1,10))\n",
    "number"
   ]
  },
  {
   "cell_type": "code",
   "execution_count": null,
   "metadata": {},
   "outputs": [],
   "source": []
  }
 ],
 "metadata": {
  "kernelspec": {
   "display_name": ".venv",
   "language": "python",
   "name": "python3"
  },
  "language_info": {
   "codemirror_mode": {
    "name": "ipython",
    "version": 3
   },
   "file_extension": ".py",
   "mimetype": "text/x-python",
   "name": "python",
   "nbconvert_exporter": "python",
   "pygments_lexer": "ipython3",
   "version": "3.11.3"
  }
 },
 "nbformat": 4,
 "nbformat_minor": 2
}
