{
 "cells": [
  {
   "cell_type": "code",
   "execution_count": 4,
   "metadata": {},
   "outputs": [
    {
     "name": "stdout",
     "output_type": "stream",
     "text": [
      "Negative\n"
     ]
    }
   ],
   "source": [
    "a=int(input(\"enter a number\"))\n",
    "if (a>0):\n",
    "    print(\"Positive\")\n",
    "else:\n",
    "    print(\"Negative\")"
   ]
  },
  {
   "cell_type": "code",
   "execution_count": null,
   "metadata": {},
   "outputs": [],
   "source": [
    "a,b,c=9,7,6\n",
    "if (a<b):\n",
    "    pass"
   ]
  },
  {
   "cell_type": "code",
   "execution_count": 5,
   "metadata": {},
   "outputs": [
    {
     "name": "stdout",
     "output_type": "stream",
     "text": [
      "No eligible to vote\n"
     ]
    }
   ],
   "source": [
    "age=int(input(\"enter the age: \"))\n",
    "voterId=True\n",
    "if (age>18) or age!=18:\n",
    "    print(\"Eligible to vote\")\n",
    "else:\n",
    "    voterId=False\n",
    "    print(\"No eligible to vote\")"
   ]
  },
  {
   "cell_type": "code",
   "execution_count": 5,
   "metadata": {},
   "outputs": [
    {
     "name": "stdout",
     "output_type": "stream",
     "text": [
      "not an adu\n"
     ]
    }
   ],
   "source": [
    "age=15\n",
    "if (age>=18):\n",
    "    print(\"you are adult\")\n",
    "else:\n",
    "    print(\"not an adu\")"
   ]
  },
  {
   "cell_type": "code",
   "execution_count": 9,
   "metadata": {},
   "outputs": [
    {
     "name": "stdout",
     "output_type": "stream",
     "text": [
      "A grade\n"
     ]
    }
   ],
   "source": [
    "Marks=90\n",
    "if (Marks>90):\n",
    "    print(\"A+ grade\")\n",
    "elif (Marks>80):\n",
    "    print(\"A grade\")\n",
    "else:\n",
    "    print(\"B grade\")"
   ]
  },
  {
   "cell_type": "code",
   "execution_count": 4,
   "metadata": {},
   "outputs": [
    {
     "name": "stdout",
     "output_type": "stream",
     "text": [
      " b is not greater than 15 and a is greter than 5\n"
     ]
    }
   ],
   "source": [
    "a=13\n",
    "b=2\n",
    "\n",
    "if a>5:\n",
    "    if b>15:\n",
    "        print(\"A is graeter than\")\n",
    "    else:\n",
    "        print(\" b is not greater than 15 and a is greter than 5\")\n",
    "else:\n",
    "    print(\"a is not greater than 5\")"
   ]
  },
  {
   "cell_type": "code",
   "execution_count": 10,
   "metadata": {},
   "outputs": [
    {
     "name": "stdout",
     "output_type": "stream",
     "text": [
      "You passed age but score is not passed. so,not qualified\n"
     ]
    }
   ],
   "source": [
    "age=int(input(\"enter the age: \"))\n",
    "\n",
    "if age>=18:\n",
    "    score=int(input(\"Enter the Score\"))\n",
    "    if score>=40:\n",
    "        print(f\"Your score is {score} you are qualified\")\n",
    "    else:\n",
    "        print(\"You passed age but score is not passed. so,not qualified\")\n",
    "else:\n",
    "    print(\"You are Not eligible, Bcoz you are below 18.\")\n"
   ]
  },
  {
   "cell_type": "code",
   "execution_count": 11,
   "metadata": {},
   "outputs": [
    {
     "name": "stdout",
     "output_type": "stream",
     "text": [
      "range(0, 10)\n"
     ]
    }
   ],
   "source": [
    "print(range(10))"
   ]
  },
  {
   "cell_type": "code",
   "execution_count": 14,
   "metadata": {},
   "outputs": [
    {
     "data": {
      "text/plain": [
       "[1, 3, 5, 7, 9]"
      ]
     },
     "execution_count": 14,
     "metadata": {},
     "output_type": "execute_result"
    }
   ],
   "source": [
    "number=list(range(1,10,2))\n",
    "number"
   ]
  },
  {
   "cell_type": "code",
   "execution_count": 15,
   "metadata": {},
   "outputs": [
    {
     "data": {
      "text/plain": [
       "[1, 2, 3, 4, 5, 6, 7, 8, 9]"
      ]
     },
     "execution_count": 15,
     "metadata": {},
     "output_type": "execute_result"
    }
   ],
   "source": [
    "number=list(range(1,10))\n",
    "number"
   ]
  },
  {
   "cell_type": "markdown",
   "metadata": {},
   "source": [
    "``Loops``"
   ]
  },
  {
   "cell_type": "code",
   "execution_count": 1,
   "metadata": {},
   "outputs": [
    {
     "name": "stdout",
     "output_type": "stream",
     "text": [
      "hello\n",
      "hello\n",
      "hello\n",
      "hello\n",
      "hello\n"
     ]
    }
   ],
   "source": [
    "for i in range(5):\n",
    "    print(\"hello\")"
   ]
  },
  {
   "cell_type": "code",
   "execution_count": 2,
   "metadata": {},
   "outputs": [
    {
     "name": "stdout",
     "output_type": "stream",
     "text": [
      "apple\n",
      "orange\n",
      "grapes\n"
     ]
    }
   ],
   "source": [
    "fruits=['apple','orange','grapes']\n",
    "for i in fruits:\n",
    "    print (i)"
   ]
  },
  {
   "cell_type": "code",
   "execution_count": 4,
   "metadata": {},
   "outputs": [
    {
     "name": "stdout",
     "output_type": "stream",
     "text": [
      "name\n",
      "age\n",
      "number\n"
     ]
    }
   ],
   "source": [
    "people={'name':'neel','age':23,'number':54561515}\n",
    "for i in people:\n",
    "    print(i)"
   ]
  },
  {
   "cell_type": "code",
   "execution_count": 5,
   "metadata": {},
   "outputs": [
    {
     "name": "stdout",
     "output_type": "stream",
     "text": [
      "neel\n",
      "23\n",
      "54561515\n"
     ]
    }
   ],
   "source": [
    "people={'name':'neel','age':23,'number':54561515}\n",
    "for i in people:\n",
    "    print(people[i])"
   ]
  },
  {
   "cell_type": "code",
   "execution_count": 8,
   "metadata": {},
   "outputs": [
    {
     "name": "stdout",
     "output_type": "stream",
     "text": [
      "0\n",
      "1\n",
      "2\n",
      "3\n",
      "4\n",
      "5\n"
     ]
    }
   ],
   "source": [
    "i=0\n",
    "while i<10:\n",
    "    print(i)\n",
    "    if i==5:\n",
    "        break\n",
    "    i+=1"
   ]
  },
  {
   "cell_type": "code",
   "execution_count": 11,
   "metadata": {},
   "outputs": [
    {
     "name": "stdout",
     "output_type": "stream",
     "text": [
      "1\n",
      "2\n",
      "3\n",
      "4\n",
      "6\n",
      "7\n",
      "8\n",
      "9\n",
      "10\n"
     ]
    }
   ],
   "source": [
    "i=0\n",
    "while i<10:\n",
    "    i+=1\n",
    "    if i==5:\n",
    "        continue\n",
    "    print(i)\n"
   ]
  },
  {
   "cell_type": "code",
   "execution_count": 13,
   "metadata": {},
   "outputs": [
    {
     "name": "stdout",
     "output_type": "stream",
     "text": [
      "['tree', 'valyer', 'ghf', 'fic', 'uohu']\n"
     ]
    }
   ],
   "source": [
    "cart=[]\n",
    "for i in range(5):\n",
    "    item=input(\"enter an item to cart: \")\n",
    "    cart.append(item)\n",
    "print(cart)"
   ]
  },
  {
   "cell_type": "code",
   "execution_count": 14,
   "metadata": {},
   "outputs": [
    {
     "name": "stdout",
     "output_type": "stream",
     "text": [
      "Your cart itemsa is ['apple']\n",
      "Your cart itemsa is ['apple', 'orange']\n"
     ]
    }
   ],
   "source": [
    "cart=[]\n",
    "while True:\n",
    "    choice=input(\" enter the items to add if yes or no: \")\n",
    "    if choice=='yes':\n",
    "        item=input(\"enter the itemm to add in cart: \")\n",
    "        cart.append(item)\n",
    "        print(f\"Your cart itemsa is {cart}\")\n",
    "    else:\n",
    "        break"
   ]
  },
  {
   "cell_type": "code",
   "execution_count": 25,
   "metadata": {},
   "outputs": [
    {
     "name": "stdout",
     "output_type": "stream",
     "text": [
      "0 : smartphone : 4500\n",
      "1 : watch : 8999\n",
      "2 : ball : 2\n",
      "[{'name': 'watch', 'price': 8999}]\n"
     ]
    }
   ],
   "source": [
    "products=[\n",
    "    {\"name\":\"smartphone\",'price':4500},\n",
    "    {'name':'watch','price':8999},\n",
    "    {'name':'ball','price':2}\n",
    "    ]\n",
    "cart=[]\n",
    "for index,product in enumerate(products):\n",
    "    print(f\"{index} : {product['name']} : {product['price']}\")\n",
    "productid=int(input(\"enter the id: \"))\n",
    "cart.append(products[productid])\n",
    "print(cart)"
   ]
  },
  {
   "cell_type": "code",
   "execution_count": 27,
   "metadata": {},
   "outputs": [
    {
     "name": "stdout",
     "output_type": "stream",
     "text": [
      "1\n",
      "4\n",
      "9\n",
      "16\n",
      "25\n",
      "36\n",
      "49\n",
      "64\n",
      "81\n"
     ]
    }
   ],
   "source": [
    "for i in range(1, 10):\n",
    "    print(i**2)"
   ]
  },
  {
   "cell_type": "code",
   "execution_count": null,
   "metadata": {},
   "outputs": [],
   "source": []
  }
 ],
 "metadata": {
  "kernelspec": {
   "display_name": ".venv",
   "language": "python",
   "name": "python3"
  },
  "language_info": {
   "codemirror_mode": {
    "name": "ipython",
    "version": 3
   },
   "file_extension": ".py",
   "mimetype": "text/x-python",
   "name": "python",
   "nbconvert_exporter": "python",
   "pygments_lexer": "ipython3",
   "version": "3.11.3"
  }
 },
 "nbformat": 4,
 "nbformat_minor": 2
}
